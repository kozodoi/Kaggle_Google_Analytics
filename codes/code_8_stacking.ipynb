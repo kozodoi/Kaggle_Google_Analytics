{
 "cells": [
  {
   "cell_type": "code",
   "execution_count": 1,
   "metadata": {},
   "outputs": [],
   "source": [
    "# libraries\n",
    "import pandas as pd\n",
    "import numpy as np"
   ]
  },
  {
   "cell_type": "code",
   "execution_count": 53,
   "metadata": {},
   "outputs": [],
   "source": [
    "# import data\n",
    "a = pd.read_csv(path + \"../submissions/aaa.csv\")\n",
    "b = pd.read_csv(path + \"../submissions/bbb.csv\")\n",
    "c = pd.read_csv(path + \"../submissions/ccc.csv\")\n",
    "d = pd.read_csv(path + \"../submissions/ddd.csv\")"
   ]
  },
  {
   "cell_type": "code",
   "execution_count": 54,
   "metadata": {},
   "outputs": [],
   "source": [
    "# compute arithmetic mean\n",
    "a[\"PredictedLogRevenue\"] = (a.PredictedLogRevenue + b.PredictedLogRevenue + \n",
    "                            c.PredictedLogRevenue + d.PredictedLogRevenue) * (1/4)"
   ]
  },
  {
   "cell_type": "code",
   "execution_count": 8,
   "metadata": {},
   "outputs": [],
   "source": [
    "# compute geometric mean\n",
    "#a[\"PredictedLogRevenue\"] = (a.PredictedLogRevenue * b.PredictedLogRevenue)**(1/2)"
   ]
  },
  {
   "cell_type": "code",
   "execution_count": 55,
   "metadata": {},
   "outputs": [
    {
     "data": {
      "text/plain": [
       "PredictedLogRevenue    0.995576\n",
       "dtype: float64"
      ]
     },
     "execution_count": 55,
     "metadata": {},
     "output_type": "execute_result"
    }
   ],
   "source": [
    "# check correlation with the best submission\n",
    "best = pd.read_csv(path + \"submissions/kernel_ga_customer_revenue_simple_lightgbm_v8_pb16650.csv\")\n",
    "best.corrwith(a)"
   ]
  },
  {
   "cell_type": "code",
   "execution_count": 57,
   "metadata": {},
   "outputs": [],
   "source": [
    "# export CSV\n",
    "a.to_csv(path + \"submissions/blend.csv\", index = False, float_format = \"%.8f\")"
   ]
  }
 ],
 "metadata": {
  "kernelspec": {
   "display_name": "Python 3",
   "language": "python",
   "name": "python3"
  },
  "language_info": {
   "codemirror_mode": {
    "name": "ipython",
    "version": 3
   },
   "file_extension": ".py",
   "mimetype": "text/x-python",
   "name": "python",
   "nbconvert_exporter": "python",
   "pygments_lexer": "ipython3",
   "version": "3.7.0"
  }
 },
 "nbformat": 4,
 "nbformat_minor": 2
}
