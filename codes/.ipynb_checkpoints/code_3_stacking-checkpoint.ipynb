{
 "cells": [
  {
   "cell_type": "markdown",
   "metadata": {
    "_uuid": "88325efe6e1e90c58e37029f398efd794ecd7ecc"
   },
   "source": [
    "# 1. SETTINGS"
   ]
  },
  {
   "cell_type": "code",
   "execution_count": 16,
   "metadata": {
    "_cell_guid": "b1076dfc-b9ad-4769-8c92-a6c4dae69d19",
    "_uuid": "8f2839f25d086af736a60e9eeb907d3b93b6e0e5"
   },
   "outputs": [],
   "source": [
    "import numpy as np\n",
    "import pandas as pd\n",
    "pd.set_option(\"display.max_columns\", None)\n",
    "\n",
    "import matplotlib.pyplot as plt\n",
    "import seaborn as sns\n",
    "\n",
    "import lightgbm as lgb\n",
    "\n",
    "import os\n",
    "import time\n",
    "import multiprocessing\n",
    "\n",
    "from sklearn.metrics import mean_squared_error\n",
    "from sklearn.model_selection import KFold\n",
    "\n",
    "import warnings\n",
    "warnings.filterwarnings('ignore')\n",
    "\n",
    "import gc\n",
    "gc.enable()"
   ]
  },
  {
   "cell_type": "markdown",
   "metadata": {
    "_uuid": "587f72a72010fb4fda2531642aff592e0f68cab1"
   },
   "source": [
    "# 2. DATA PREPARATION"
   ]
  },
  {
   "cell_type": "code",
   "execution_count": 17,
   "metadata": {},
   "outputs": [
    {
     "name": "stdout",
     "output_type": "stream",
     "text": [
      "(1855735, 7)\n"
     ]
    }
   ],
   "source": [
    "### IMPORT OOF PREDS\n",
    "names = os.listdir('../oof_preds')\n",
    "\n",
    "for name in names:\n",
    "\n",
    "    tmp = pd.read_csv('../oof_preds/' + str(name))\n",
    "    tmp.columns = [name, 'target']\n",
    "    \n",
    "    if name == names[0]:     \n",
    "        full_train = tmp\n",
    "        \n",
    "    else:\n",
    "        del tmp['target']\n",
    "        full_train = pd.concat([full_train, tmp], axis = 1)\n",
    "        \n",
    "print(full_train.shape)"
   ]
  },
  {
   "cell_type": "code",
   "execution_count": 18,
   "metadata": {
    "_uuid": "1ac6c8500bbc9b9a338292b86bd01362e25264d9"
   },
   "outputs": [],
   "source": [
    "# extract target\n",
    "y = full_train['target']\n",
    "del full_train['target']"
   ]
  },
  {
   "cell_type": "code",
   "execution_count": 19,
   "metadata": {},
   "outputs": [
    {
     "data": {
      "text/plain": [
       "(1855735, 6)"
      ]
     },
     "execution_count": 19,
     "metadata": {},
     "output_type": "execute_result"
    }
   ],
   "source": [
    "# remove constant columns\n",
    "full_train = full_train.loc[:, full_train.apply(pd.Series.nunique) != 1]\n",
    "full_train.shape"
   ]
  },
  {
   "cell_type": "markdown",
   "metadata": {
    "_uuid": "d413e67b3a8735ceeec25b2c3fc6b911d8646464"
   },
   "source": [
    "# 3. CROSS-VALIDATION"
   ]
  },
  {
   "cell_type": "markdown",
   "metadata": {
    "_uuid": "1e5143b3cb09f395e946bd4fdb63482bc1c542cc"
   },
   "source": [
    "## GALACTIC OBJECTS"
   ]
  },
  {
   "cell_type": "code",
   "execution_count": 20,
   "metadata": {
    "_uuid": "3f48baa0689486fdb7f1763ad7546e171f837de7"
   },
   "outputs": [
    {
     "name": "stdout",
     "output_type": "stream",
     "text": [
      "(1855735, 6)\n"
     ]
    }
   ],
   "source": [
    "# exclude features\n",
    "excluded_feats = []\n",
    "features = [f for f in full_train.columns if f not in excluded_feats]\n",
    "print(full_train[features].shape)"
   ]
  },
  {
   "cell_type": "code",
   "execution_count": 21,
   "metadata": {
    "colab": {},
    "colab_type": "code",
    "id": "ynozDG6yivwQ"
   },
   "outputs": [],
   "source": [
    "### PARAMETERS\n",
    "\n",
    "# LGB parameters\n",
    "lgb_params = {\n",
    "    'boosting_type':   'gbdt',\n",
    "    'objective':       'rmse',\n",
    "    'metric':          'rmse',\n",
    "    'subsample':        0.9,\n",
    "    'feature_fraction': 0.7,\n",
    "    'lambda_l1':        0.03,\n",
    "    'lambda_l2':        0.03,\n",
    "    'min_split_gain':   0.01,\n",
    "    'min_child_weight': 5,\n",
    "    'silent':           True,\n",
    "    'verbosity':        -1,\n",
    "    'learning_rate':    0.03,\n",
    "    'max_depth':        3,\n",
    "    'n_estimators':     1000,\n",
    "    'nthread' :         16\n",
    "}\n",
    "\n",
    "# loss function\n",
    "def rmse(y_true, y_pred):\n",
    "    return np.sqrt(mean_squared_error(y_true, y_pred))\n",
    "\n",
    "# validation\n",
    "folds = KFold(n_splits     = 5, \n",
    "              shuffle      = True, \n",
    "              random_state = 42)"
   ]
  },
  {
   "cell_type": "code",
   "execution_count": 22,
   "metadata": {
    "_uuid": "4e5e1ed34e0887b3c10b8e649abef15f44a34853",
    "scrolled": true
   },
   "outputs": [
    {
     "name": "stdout",
     "output_type": "stream",
     "text": [
      "Training until validation scores don't improve for 50 rounds.\n",
      "[50]\ttraining's rmse: 0.282446\tvalid_1's rmse: 0.282474\n",
      "Early stopping, best iteration is:\n",
      "[48]\ttraining's rmse: 0.282477\tvalid_1's rmse: 0.282474\n",
      "-------------------------------------\n",
      "Fold 1: RMSE = 0.282474\n",
      "-------------------------------------\n",
      "\n",
      "Training until validation scores don't improve for 50 rounds.\n",
      "[50]\ttraining's rmse: 0.283601\tvalid_1's rmse: 0.27759\n",
      "[100]\ttraining's rmse: 0.283049\tvalid_1's rmse: 0.277554\n",
      "Early stopping, best iteration is:\n",
      "[86]\ttraining's rmse: 0.283179\tvalid_1's rmse: 0.277543\n",
      "-------------------------------------\n",
      "Fold 2: RMSE = 0.277543\n",
      "-------------------------------------\n",
      "\n",
      "Training until validation scores don't improve for 50 rounds.\n",
      "[50]\ttraining's rmse: 0.275055\tvalid_1's rmse: 0.309831\n",
      "Early stopping, best iteration is:\n",
      "[39]\ttraining's rmse: 0.275291\tvalid_1's rmse: 0.30979\n",
      "-------------------------------------\n",
      "Fold 3: RMSE = 0.30979\n",
      "-------------------------------------\n",
      "\n",
      "Training until validation scores don't improve for 50 rounds.\n",
      "[50]\ttraining's rmse: 0.286696\tvalid_1's rmse: 0.263289\n",
      "[100]\ttraining's rmse: 0.286102\tvalid_1's rmse: 0.263078\n",
      "Early stopping, best iteration is:\n",
      "[73]\ttraining's rmse: 0.286373\tvalid_1's rmse: 0.263053\n",
      "-------------------------------------\n",
      "Fold 4: RMSE = 0.263053\n",
      "-------------------------------------\n",
      "\n",
      "Training until validation scores don't improve for 50 rounds.\n",
      "[50]\ttraining's rmse: 0.283193\tvalid_1's rmse: 0.279511\n",
      "[100]\ttraining's rmse: 0.282629\tvalid_1's rmse: 0.279492\n",
      "Early stopping, best iteration is:\n",
      "[73]\ttraining's rmse: 0.28291\tvalid_1's rmse: 0.279417\n",
      "-------------------------------------\n",
      "Fold 5: RMSE = 0.279417\n",
      "-------------------------------------\n",
      "\n",
      "\n",
      "OOF RMSE: 0.282865 \n",
      "Done in    1.6 minutes\n"
     ]
    }
   ],
   "source": [
    "### CROSS-VALIDATION LOOP\n",
    "\n",
    "# create objects\n",
    "clfs = []\n",
    "oof_preds = []\n",
    "oof_reals = []\n",
    "\n",
    "# modeling loop\n",
    "start  = time.time()\n",
    "for fold_, (trn_, val_) in enumerate(folds.split(full_train)):\n",
    "    \n",
    "    # data partitioning\n",
    "    trn_x, trn_y = full_train[features].iloc[trn_], y.iloc[trn_]\n",
    "    val_x, val_y = full_train[features].iloc[val_], y.iloc[val_]\n",
    "    \n",
    "    # train the model\n",
    "    clf = lgb.LGBMRegressor(**lgb_params) \n",
    "    clf.fit(\n",
    "        trn_x, trn_y,\n",
    "        eval_set              = [(trn_x, trn_y), (val_x, val_y)],\n",
    "        eval_metric           = 'rmse',\n",
    "        verbose               = 50,\n",
    "        early_stopping_rounds = 50\n",
    "    )\n",
    "    clfs.append(clf)\n",
    "    \n",
    "    # OOF predictions\n",
    "    oof_preds.append(list(clf.predict(val_x, num_iteration = clf.best_iteration_)))\n",
    "    oof_reals.append(val_y)\n",
    "    \n",
    "    # feedback\n",
    "    print('-------------------------------------')\n",
    "    print('Fold ' + str(fold_ + 1) + ': RMSE = ' + str(round(rmse(val_y, clf.predict(val_x, num_iteration = clf.best_iteration_)), 6)))  \n",
    "    print('-------------------------------------')\n",
    "    print('')\n",
    "    \n",
    "    # clean up\n",
    "    gc.collect()\n",
    "    \n",
    "# OOF predictions\n",
    "oof_preds = [item for sublist in oof_preds for item in sublist]\n",
    "oof_reals = [item for sublist in oof_reals for item in sublist]\n",
    "oof_preds_df = pd.DataFrame({'pred': oof_preds, 'real': oof_reals})\n",
    "    \n",
    "# print performance\n",
    "cv_perf = rmse(oof_reals, oof_preds)\n",
    "print('')\n",
    "print('OOF RMSE: %.6f ' % cv_perf)\n",
    "print('Done in %6.1f minutes' % ((time.time() - start) / 60))"
   ]
  },
  {
   "cell_type": "code",
   "execution_count": 23,
   "metadata": {},
   "outputs": [],
   "source": [
    "###### TRACKING RESULTS\n",
    "\n",
    "# 3 LGB models:  0.282905\n",
    "# 4 LGB models:  0.282833\n",
    "# 5 LGB models:  0.282808"
   ]
  },
  {
   "cell_type": "code",
   "execution_count": 24,
   "metadata": {},
   "outputs": [
    {
     "name": "stdout",
     "output_type": "stream",
     "text": [
      "RMSE before: 0.282865 \n",
      "RMSE after:  0.282865 \n"
     ]
    }
   ],
   "source": [
    "# calibration of porbs\n",
    "preds = pd.Series(oof_preds)\n",
    "preds[preds < 0] = 0\n",
    "print('RMSE before: %.6f ' % rmse(oof_reals, oof_preds))\n",
    "print('RMSE after:  %.6f ' % rmse(oof_reals, preds))"
   ]
  },
  {
   "cell_type": "markdown",
   "metadata": {
    "_uuid": "0caa1fc29c48dc0b35967cd9cad1eb3a306b7864"
   },
   "source": [
    "# 4. PREDICTIONS"
   ]
  },
  {
   "cell_type": "code",
   "execution_count": 25,
   "metadata": {},
   "outputs": [
    {
     "data": {
      "text/plain": [
       "(296530, 7)"
      ]
     },
     "execution_count": 25,
     "metadata": {},
     "output_type": "execute_result"
    }
   ],
   "source": [
    "### IMPORT TEST PREDS\n",
    "for name in names:\n",
    "\n",
    "    tmp = pd.read_csv('../submissions/' + str(name))\n",
    "    tmp.columns = ['fullVisitorId', name]\n",
    "    \n",
    "    if name == names[0]:     \n",
    "        full_test = tmp\n",
    "        \n",
    "    else:\n",
    "        del tmp['fullVisitorId']\n",
    "        full_test = pd.concat([full_test, tmp], axis = 1)\n",
    "        \n",
    "full_test.shape"
   ]
  },
  {
   "cell_type": "code",
   "execution_count": 26,
   "metadata": {
    "_uuid": "02d3ee24a83713923c12c2af746212bebd169f4f"
   },
   "outputs": [
    {
     "name": "stdout",
     "output_type": "stream",
     "text": [
      "Done in   0.0 minutes\n"
     ]
    }
   ],
   "source": [
    "### PREDICT\n",
    "\n",
    "# make predictions\n",
    "start  = time.time()\n",
    "preds = None\n",
    "for clf in clfs:\n",
    "    cur_test_preds = clf.predict(full_test[features], num_iteration = clf.best_iteration_)\n",
    "    cur_test_preds = pd.Series(cur_test_preds)\n",
    "    cur_test_preds[cur_test_preds < 0] = 0\n",
    "    cur_test_preds = cur_test_preds.values\n",
    "    if preds is None:\n",
    "        preds =  cur_test_preds / (folds.n_splits)\n",
    "    else:\n",
    "        preds += cur_test_preds / (folds.n_splits)\n",
    "\n",
    "# clean up\n",
    "gc.collect()\n",
    "print('Done in %5.1f minutes' % ((time.time() - start) / 60))"
   ]
  },
  {
   "cell_type": "code",
   "execution_count": 27,
   "metadata": {},
   "outputs": [
    {
     "name": "stdout",
     "output_type": "stream",
     "text": [
      "Predictions shape:  (296530, 2)\n"
     ]
    }
   ],
   "source": [
    "# create submission\n",
    "sub = pd.DataFrame(preds, columns = ['predictedLogRevenue'])\n",
    "sub['fullVisitorId'] = full_test['fullVisitorId'].values\n",
    "sub = sub[['fullVisitorId', 'predictedLogRevenue']]\n",
    "print('Predictions shape: ', sub.shape)"
   ]
  },
  {
   "cell_type": "code",
   "execution_count": 28,
   "metadata": {},
   "outputs": [],
   "source": [
    "# file name\n",
    "model = 'stacking'\n",
    "perf  = str(round(cv_perf, 6))[2:8]\n",
    "name  = model + '_' + perf"
   ]
  },
  {
   "cell_type": "code",
   "execution_count": 29,
   "metadata": {},
   "outputs": [
    {
     "data": {
      "text/plain": [
       "(296530, 2)"
      ]
     },
     "execution_count": 29,
     "metadata": {},
     "output_type": "execute_result"
    }
   ],
   "source": [
    "# export submission\n",
    "sub.to_csv('../submissions/' + str(name) + '.csv', index = False)\n",
    "sub.shape"
   ]
  }
 ],
 "metadata": {
  "kernelspec": {
   "display_name": "Python 3",
   "language": "python",
   "name": "python3"
  },
  "language_info": {
   "codemirror_mode": {
    "name": "ipython",
    "version": 3
   },
   "file_extension": ".py",
   "mimetype": "text/x-python",
   "name": "python",
   "nbconvert_exporter": "python",
   "pygments_lexer": "ipython3",
   "version": "3.6.5"
  }
 },
 "nbformat": 4,
 "nbformat_minor": 2
}
