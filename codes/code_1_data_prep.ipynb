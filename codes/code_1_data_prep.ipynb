{
 "cells": [
  {
   "cell_type": "markdown",
   "metadata": {},
   "source": [
    "# 1. SETTINGS"
   ]
  },
  {
   "cell_type": "code",
   "execution_count": 1,
   "metadata": {},
   "outputs": [],
   "source": [
    "import pandas as pd\n",
    "import numpy as np\n",
    "\n",
    "from pandas.io.json import json_normalize\n",
    "import json\n",
    "from ast import literal_eval\n",
    "\n",
    "import os"
   ]
  },
  {
   "cell_type": "code",
   "execution_count": 2,
   "metadata": {},
   "outputs": [],
   "source": [
    "# pandas options\n",
    "pd.set_option(\"display.max_columns\", None)"
   ]
  },
  {
   "cell_type": "code",
   "execution_count": 3,
   "metadata": {},
   "outputs": [],
   "source": [
    "# ignore warnings\n",
    "import warnings\n",
    "warnings.filterwarnings(\"ignore\")"
   ]
  },
  {
   "cell_type": "code",
   "execution_count": 4,
   "metadata": {},
   "outputs": [],
   "source": [
    "# garbage collection\n",
    "import gc\n",
    "gc.enable()"
   ]
  },
  {
   "cell_type": "markdown",
   "metadata": {},
   "source": [
    "# 2. FUNCTIONS"
   ]
  },
  {
   "cell_type": "code",
   "execution_count": 5,
   "metadata": {},
   "outputs": [],
   "source": [
    "##### FUNCTION 1: LOADING DATA WITH JSON\n",
    "def read_csv_with_json(path, json_cols, nrows = None):\n",
    "        \n",
    "    # import data frame\n",
    "    df = pd.read_csv(path, \n",
    "                     converters = {column: json.loads for column in json_cols}, \n",
    "                     dtype = {'fullVisitorId': 'str'},\n",
    "                     nrows = nrows)\n",
    "    \n",
    "    # extract values\n",
    "    for column in json_cols:\n",
    "        column_as_df = json_normalize(df[column])\n",
    "        column_as_df.columns = [f\"{column}_{subcolumn}\" for subcolumn in column_as_df.columns]\n",
    "        df = df.drop(column, axis = 1).merge(column_as_df, right_index = True, left_index = True)\n",
    "\n",
    "    # return data\n",
    "    print(f\"Loaded {os.path.basename(path)}: {df.shape}\")\n",
    "    return df"
   ]
  },
  {
   "cell_type": "code",
   "execution_count": 6,
   "metadata": {},
   "outputs": [],
   "source": [
    "##### FUNCTION 2: UNFOLD CUSTOM DIMENSIONS\n",
    "def add_custom_dim(df):\n",
    "\n",
    "    # extract custom dimensions\n",
    "    df['customDimensions'] = df['customDimensions'].apply(literal_eval)\n",
    "    df['customDimensions'] = df['customDimensions'].str[0]\n",
    "    df['customDimensions'] = df['customDimensions'].apply(lambda x: {'index':np.NaN,'value':np.NaN} if pd.isnull(x) else x)\n",
    "\n",
    "    column_as_df = json_normalize(df['customDimensions'])\n",
    "    column_as_df.columns = [f\"customDimensions_{subcolumn}\" for subcolumn in column_as_df.columns]\n",
    "    df = df.drop('customDimensions', axis=1).merge(column_as_df, right_index = True, left_index = True)\n",
    "    \n",
    "    return df"
   ]
  },
  {
   "cell_type": "code",
   "execution_count": 7,
   "metadata": {},
   "outputs": [],
   "source": [
    "##### FUNCTION 3: FILL NA\n",
    "def fill_na(df):\n",
    "    \n",
    "    \n",
    "    ##### IMPUTE NA DIFFERENTLY\n",
    "    \n",
    "    # NA = unknown\n",
    "    to_NA_cols = ['trafficSource_adContent',\n",
    "                  'trafficSource_adwordsClickInfo.adNetworkType',\n",
    "                  'trafficSource_adwordsClickInfo.slot',\n",
    "                  'trafficSource_adwordsClickInfo.gclId',\n",
    "                  'trafficSource_keyword',\n",
    "                  'trafficSource_referralPath',\n",
    "                  'customDimensions_value']\n",
    "\n",
    "    # NA = zero\n",
    "    to_0_cols = ['totals_transactionRevenue',\n",
    "                 'trafficSource_adwordsClickInfo.page',\n",
    "                 'totals_sessionQualityDim','totals_bounces',\n",
    "                 'totals_timeOnSite',\n",
    "                 'totals_newVisits',\n",
    "                 'totals_pageviews',\n",
    "                 'customDimensions_index',\n",
    "                 'totals_transactions',\n",
    "                 'totals_totalTransactionRevenue']\n",
    "\n",
    "    # NA = TRUE / FALSE\n",
    "    to_true_cols  = ['trafficSource_adwordsClickInfo.isVideoAd']\n",
    "    to_false_cols = ['trafficSource_isTrueDirect']\n",
    "    \n",
    "    # impute missings\n",
    "    df[to_NA_cols]    = df[to_NA_cols].fillna('NA')\n",
    "    df[to_0_cols]     = df[to_0_cols].fillna(0)\n",
    "    df[to_true_cols]  = df[to_true_cols].fillna(True)\n",
    "    df[to_false_cols] = df[to_false_cols].fillna(False)\n",
    "    \n",
    "    \n",
    "    \n",
    "    ##### REPLACE SOME LEVELS WITH NA\n",
    "    \n",
    "    # not available, not provided, etc.\n",
    "    cols_to_replace = {\n",
    "        'socialEngagementType' : 'Not Socially Engaged',\n",
    "        'device_browserSize' : 'not available in demo dataset', \n",
    "        'device_flashVersion' : 'not available in demo dataset', \n",
    "        'device_browserVersion' : 'not available in demo dataset', \n",
    "        'device_language' : 'not available in demo dataset',\n",
    "        'device_mobileDeviceBranding' : 'not available in demo dataset',\n",
    "        'device_mobileDeviceInfo' : 'not available in demo dataset',\n",
    "        'device_mobileDeviceMarketingName' : 'not available in demo dataset',\n",
    "        'device_mobileDeviceModel' : 'not available in demo dataset',\n",
    "        'device_mobileInputSelector' : 'not available in demo dataset',\n",
    "        'device_operatingSystemVersion' : 'not available in demo dataset',\n",
    "        'device_screenColors' : 'not available in demo dataset',\n",
    "        'device_screenResolution' : 'not available in demo dataset',\n",
    "        'geoNetwork_city' : 'not available in demo dataset',\n",
    "        'geoNetwork_cityId' : 'not available in demo dataset',\n",
    "        'geoNetwork_latitude' : 'not available in demo dataset',\n",
    "        'geoNetwork_longitude' : 'not available in demo dataset',\n",
    "        'geoNetwork_metro' : ['not available in demo dataset', '(not set)'], \n",
    "        'geoNetwork_networkDomain' : ['unknown.unknown', '(not set)'], \n",
    "        'geoNetwork_networkLocation' : 'not available in demo dataset',\n",
    "        'geoNetwork_region' : 'not available in demo dataset',\n",
    "        'trafficSource_adwordsClickInfo.criteriaParameters' : 'not available in demo dataset',\n",
    "        'trafficSource_campaign' : '(not set)', \n",
    "        'trafficSource_keyword' : ['(not provided)', '(not set)'], \n",
    "        'networkDomain': '(not set)', \n",
    "        'city': '(not set)'\n",
    "    }\n",
    "    df = df.replace(cols_to_replace,'NA')\n",
    "    \n",
    "    return df"
   ]
  },
  {
   "cell_type": "markdown",
   "metadata": {},
   "source": [
    "# 3. IMPORT"
   ]
  },
  {
   "cell_type": "code",
   "execution_count": null,
   "metadata": {},
   "outputs": [],
   "source": [
    "# JSON columns\n",
    "json_cols = ['device', 'geoNetwork', 'totals', 'trafficSource']\n",
    "\n",
    "# import data\n",
    "train = read_csv_with_json(\"../data/train_v2.csv\", json_cols = json_cols)\n",
    "test = read_csv_with_json(\"../data/test_v2.csv\",   json_cols = json_cols)"
   ]
  },
  {
   "cell_type": "code",
   "execution_count": null,
   "metadata": {},
   "outputs": [],
   "source": [
    "# check data\n",
    "train.head()"
   ]
  },
  {
   "cell_type": "code",
   "execution_count": null,
   "metadata": {},
   "outputs": [],
   "source": [
    "# check data\n",
    "test.head()"
   ]
  },
  {
   "cell_type": "code",
   "execution_count": 13,
   "metadata": {},
   "outputs": [],
   "source": [
    "# drop hits [TEMPORARY]\n",
    "del train['hits']\n",
    "del test['hits']"
   ]
  },
  {
   "cell_type": "markdown",
   "metadata": {},
   "source": [
    "# 4. MERGER"
   ]
  },
  {
   "cell_type": "code",
   "execution_count": 14,
   "metadata": {},
   "outputs": [
    {
     "data": {
      "text/plain": [
       "array([ True,  True,  True,  True,  True,  True,  True,  True,  True,\n",
       "        True,  True,  True,  True,  True,  True,  True,  True,  True,\n",
       "        True,  True,  True,  True,  True,  True,  True,  True,  True,\n",
       "        True,  True,  True,  True,  True,  True,  True,  True,  True,\n",
       "        True,  True,  True,  True,  True,  True,  True,  True,  True,\n",
       "        True,  True,  True,  True,  True,  True,  True,  True,  True,\n",
       "        True,  True,  True,  True])"
      ]
     },
     "execution_count": 14,
     "metadata": {},
     "output_type": "execute_result"
    }
   ],
   "source": [
    "# align columns\n",
    "train = train.reindex_axis(sorted(train.columns), axis = 1)\n",
    "test  = test.reindex_axis(sorted(test.columns),   axis = 1)\n",
    "\n",
    "# delete vars not in test\n",
    "del train['trafficSource_campaignCode']\n",
    "\n",
    "# check equalty\n",
    "train.columns == test.columns"
   ]
  },
  {
   "cell_type": "code",
   "execution_count": 15,
   "metadata": {},
   "outputs": [
    {
     "name": "stdout",
     "output_type": "stream",
     "text": [
      "(2109926, 58)\n"
     ]
    }
   ],
   "source": [
    "# concatenate\n",
    "df = pd.concat([train, test], axis = 0)\n",
    "del train, test\n",
    "print(df.shape)"
   ]
  },
  {
   "cell_type": "markdown",
   "metadata": {},
   "source": [
    "# 5. PROCESSING"
   ]
  },
  {
   "cell_type": "code",
   "execution_count": 16,
   "metadata": {},
   "outputs": [
    {
     "data": {
      "text/plain": [
       "\"[{'hitNumber': '1', 'time': '0', 'hour': '17', 'minute': '0', 'isInteraction': True, 'isEntrance': True, 'isExit': True, 'referer': 'https://www.google.co.uk/search?q=water+bottle&ie=utf-8&num=100&oe=utf-8&hl=en&gl=GB&uule=w+CAIQIFISCamRx0IRO1oCEXoliDJDoPjE&glp=1&gws_rd=cr&fg=1', 'page': {'pagePath': '/google+redesign/bags/water+bottles+and+tumblers', 'hostname': 'shop.googlemerchandisestore.com', 'pageTitle': 'Water Bottles & Tumblers | Drinkware | Google Merchandise Store', 'pagePathLevel1': '/google+redesign/', 'pagePathLevel2': '/bags/', 'pagePathLevel3': '/water+bottles+and+tumblers', 'pagePathLevel4': ''}, 'transaction': {'currencyCode': 'USD'}, 'item': {'currencyCode': 'USD'}, 'appInfo': {'screenName': 'shop.googlemerchandisestore.com/google+redesign/bags/water+bottles+and+tumblers', 'landingScreenName': 'shop.googlemerchandisestore.com/google+redesign/bags/water+bottles+and+tumblers', 'exitScreenName': 'shop.googlemerchandisestore.com/google+redesign/bags/water+bottles+and+tumblers', 'screenDepth': '0'}, 'exceptionInfo': {'isFatal': True}, 'product': [{'productSKU': 'GGOEGDHC074099', 'v2ProductName': 'Google 17oz Stainless Steel Sport Bottle', 'v2ProductCategory': 'Home/Drinkware/Water Bottles and Tumblers/', 'productVariant': '(not set)', 'productBrand': '(not set)', 'productPrice': '23990000', 'localProductPrice': '23990000', 'isImpression': True, 'customDimensions': [], 'customMetrics': [], 'productListName': 'Category', 'productListPosition': '1'}, {'productSKU': 'GGOEGDHQ015399', 'v2ProductName': '26 oz Double Wall Insulated Bottle', 'v2ProductCategory': 'Home/Drinkware/Water Bottles and Tumblers/', 'productVariant': '(not set)', 'productBrand': '(not set)', 'productPrice': '24990000', 'localProductPrice': '24990000', 'isImpression': True, 'customDimensions': [], 'customMetrics': [], 'productListName': 'Category', 'productListPosition': '2'}, {'productSKU': 'GGOEYDHJ056099', 'v2ProductName': '22 oz YouTube Bottle Infuser', 'v2ProductCategory': 'Home/Drinkware/Water Bottles and Tumblers/', 'productVariant': '(not set)', 'productBrand': '(not set)', 'productPrice': '4990000', 'localProductPrice': '4990000', 'isImpression': True, 'customDimensions': [], 'customMetrics': [], 'productListName': 'Category', 'productListPosition': '3'}, {'productSKU': 'GGOEGAAX0074', 'v2ProductName': 'Google 22 oz Water Bottle', 'v2ProductCategory': 'Home/Drinkware/Water Bottles and Tumblers/', 'productVariant': '(not set)', 'productBrand': '(not set)', 'productPrice': '2990000', 'localProductPrice': '2990000', 'isImpression': True, 'customDimensions': [], 'customMetrics': [], 'productListName': 'Category', 'productListPosition': '4'}], 'promotion': [], 'eCommerceAction': {'action_type': '0', 'step': '1'}, 'experiment': [], 'customVariables': [], 'customDimensions': [], 'customMetrics': [], 'type': 'PAGE', 'social': {'socialNetwork': '(not set)', 'hasSocialSourceReferral': 'No', 'socialInteractionNetworkAction': ' : '}, 'contentGroup': {'contentGroup1': '(not set)', 'contentGroup2': 'Bags', 'contentGroup3': '(not set)', 'contentGroup4': '(not set)', 'contentGroup5': '(not set)', 'previousContentGroup1': '(entrance)', 'previousContentGroup2': '(entrance)', 'previousContentGroup3': '(entrance)', 'previousContentGroup4': '(entrance)', 'previousContentGroup5': '(entrance)', 'contentGroupUniqueViews2': '1'}, 'dataSource': 'web', 'publisher_infos': []}]\""
      ]
     },
     "execution_count": 16,
     "metadata": {},
     "output_type": "execute_result"
    }
   ],
   "source": [
    "train.hits[0]"
   ]
  },
  {
   "cell_type": "code",
   "execution_count": 16,
   "metadata": {},
   "outputs": [
    {
     "name": "stdout",
     "output_type": "stream",
     "text": [
      "(2109926, 58)\n",
      "(2109926, 59)\n"
     ]
    }
   ],
   "source": [
    "# unfold custom dimensions\n",
    "print(df.shape)\n",
    "df = add_custom_dim(df)\n",
    "print(df.shape)"
   ]
  },
  {
   "cell_type": "code",
   "execution_count": 17,
   "metadata": {},
   "outputs": [],
   "source": [
    "# fill missings\n",
    "df = fill_na(df)"
   ]
  },
  {
   "cell_type": "code",
   "execution_count": 18,
   "metadata": {},
   "outputs": [],
   "source": [
    "# convert to integers\n",
    "to_int = ['customDimensions_index',\n",
    "          'totals_bounces',\n",
    "          'totals_newVisits',\n",
    "          'totals_pageviews',\n",
    "          'totals_hits',\n",
    "          'totals_sessionQualityDim',\n",
    "          'totals_visits',\n",
    "          'totals_timeOnSite',\n",
    "          'trafficSource_adwordsClickInfo.page',\n",
    "          'totals_transactions',\n",
    "          'totals_transactionRevenue',\n",
    "          'totals_totalTransactionRevenue']\n",
    "for col in to_int :\n",
    "    df[col] = df[col].astype('int64')"
   ]
  },
  {
   "cell_type": "code",
   "execution_count": 19,
   "metadata": {},
   "outputs": [],
   "source": [
    "# convert date\n",
    "df['date'] = pd.to_datetime(df['date'].astype('str'), infer_datetime_format = True)"
   ]
  },
  {
   "cell_type": "code",
   "execution_count": 20,
   "metadata": {},
   "outputs": [
    {
     "name": "stdout",
     "output_type": "stream",
     "text": [
      "(2109926, 59)\n",
      "(2109926, 40)\n"
     ]
    }
   ],
   "source": [
    "# remove columns with a single value\n",
    "print(df.shape)\n",
    "df = df.loc[:, df.nunique(dropna = False) != 1]\n",
    "print(df.shape)"
   ]
  },
  {
   "cell_type": "code",
   "execution_count": 21,
   "metadata": {},
   "outputs": [],
   "source": [
    "# convert boolean to objects\n",
    "bools = ['device_isMobile', 'trafficSource_adwordsClickInfo.isVideoAd', 'trafficSource_isTrueDirect']\n",
    "for var in bools:\n",
    "    df[var] = df[var].astype('object')"
   ]
  },
  {
   "cell_type": "code",
   "execution_count": 22,
   "metadata": {},
   "outputs": [
    {
     "data": {
      "text/plain": [
       "channelGrouping                                         object\n",
       "date                                            datetime64[ns]\n",
       "device_browser                                          object\n",
       "device_deviceCategory                                   object\n",
       "device_isMobile                                         object\n",
       "device_operatingSystem                                  object\n",
       "fullVisitorId                                           object\n",
       "geoNetwork_city                                         object\n",
       "geoNetwork_continent                                    object\n",
       "geoNetwork_country                                      object\n",
       "geoNetwork_metro                                        object\n",
       "geoNetwork_networkDomain                                object\n",
       "geoNetwork_region                                       object\n",
       "geoNetwork_subContinent                                 object\n",
       "totals_bounces                                           int64\n",
       "totals_hits                                              int64\n",
       "totals_newVisits                                         int64\n",
       "totals_pageviews                                         int64\n",
       "totals_sessionQualityDim                                 int64\n",
       "totals_timeOnSite                                        int64\n",
       "totals_totalTransactionRevenue                           int64\n",
       "totals_transactionRevenue                                int64\n",
       "totals_transactions                                      int64\n",
       "trafficSource_adContent                                 object\n",
       "trafficSource_adwordsClickInfo.adNetworkType            object\n",
       "trafficSource_adwordsClickInfo.gclId                    object\n",
       "trafficSource_adwordsClickInfo.isVideoAd                object\n",
       "trafficSource_adwordsClickInfo.page                      int64\n",
       "trafficSource_adwordsClickInfo.slot                     object\n",
       "trafficSource_campaign                                  object\n",
       "trafficSource_isTrueDirect                              object\n",
       "trafficSource_keyword                                   object\n",
       "trafficSource_medium                                    object\n",
       "trafficSource_referralPath                              object\n",
       "trafficSource_source                                    object\n",
       "visitId                                                  int64\n",
       "visitNumber                                              int64\n",
       "visitStartTime                                           int64\n",
       "customDimensions_index                                   int64\n",
       "customDimensions_value                                  object\n",
       "dtype: object"
      ]
     },
     "execution_count": 22,
     "metadata": {},
     "output_type": "execute_result"
    }
   ],
   "source": [
    "# check data types\n",
    "df.dtypes"
   ]
  },
  {
   "cell_type": "markdown",
   "metadata": {},
   "source": [
    "# 6. EXPORT"
   ]
  },
  {
   "cell_type": "code",
   "execution_count": 23,
   "metadata": {},
   "outputs": [
    {
     "data": {
      "text/plain": [
       "(2109926, 40)"
      ]
     },
     "execution_count": 23,
     "metadata": {},
     "output_type": "execute_result"
    }
   ],
   "source": [
    "# export CSV\n",
    "df.to_csv(\"../data/data_v1.csv.gz\", index = False, compression = \"gzip\")\n",
    "df.shape"
   ]
  }
 ],
 "metadata": {
  "kernelspec": {
   "display_name": "Python 3",
   "language": "python",
   "name": "python3"
  },
  "language_info": {
   "codemirror_mode": {
    "name": "ipython",
    "version": 3
   },
   "file_extension": ".py",
   "mimetype": "text/x-python",
   "name": "python",
   "nbconvert_exporter": "python",
   "pygments_lexer": "ipython3",
   "version": "3.7.1"
  }
 },
 "nbformat": 4,
 "nbformat_minor": 2
}
