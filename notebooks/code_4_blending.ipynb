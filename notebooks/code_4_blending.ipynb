{
 "cells": [
  {
   "cell_type": "markdown",
   "metadata": {},
   "source": [
    "# BLENDING\n",
    "\n",
    "This notebook averages predictions from several prediction models and exports ensemble predictions."
   ]
  },
  {
   "cell_type": "code",
   "execution_count": 1,
   "metadata": {},
   "outputs": [],
   "source": [
    "### PACKAGES\n",
    "\n",
    "import pandas as pd\n",
    "import numpy as np"
   ]
  },
  {
   "cell_type": "code",
   "execution_count": 53,
   "metadata": {},
   "outputs": [],
   "source": [
    "### IMPORT PREDS\n",
    "\n",
    "a = pd.read_csv(\"../submissions/aaa.csv\")\n",
    "b = pd.read_csv(\"../submissions/bbb.csv\")\n",
    "c = pd.read_csv(\"../submissions/ccc.csv\")\n",
    "d = pd.read_csv(\"../submissions/ddd.csv\")"
   ]
  },
  {
   "cell_type": "code",
   "execution_count": 54,
   "metadata": {},
   "outputs": [],
   "source": [
    "### CALCULATE MEAN\n",
    "\n",
    "a[\"PredictedLogRevenue\"] = (a.PredictedLogRevenue + b.PredictedLogRevenue + \n",
    "                            c.PredictedLogRevenue + d.PredictedLogRevenue) * (1/4)"
   ]
  },
  {
   "cell_type": "code",
   "execution_count": 55,
   "metadata": {},
   "outputs": [
    {
     "data": {
      "text/plain": [
       "PredictedLogRevenue    0.995576\n",
       "dtype: float64"
      ]
     },
     "execution_count": 55,
     "metadata": {},
     "output_type": "execute_result"
    }
   ],
   "source": [
    "### CALCULATE MEAN\n",
    "\n",
    "a[\"PredictedLogRevenue\"] = (a.PredictedLogRevenue + b.PredictedLogRevenue + \n",
    "                            c.PredictedLogRevenue + d.PredictedLogRevenue) * (1/4)\n",
    "\n",
    "# check correlation with the best submission\n",
    "best = pd.read_csv(\"../submissions/stacking_282905.csv\")\n",
    "best.corrwith(a)"
   ]
  },
  {
   "cell_type": "code",
   "execution_count": 17,
   "metadata": {},
   "outputs": [],
   "source": [
    "### EXPORT CSV\n",
    "\n",
    "a.to_csv(\"../submissions/blend.csv\", index = False, float_format = \"%.8f\")"
   ]
  }
 ],
 "metadata": {
  "kernelspec": {
   "display_name": "Python 3",
   "language": "python",
   "name": "python3"
  },
  "language_info": {
   "codemirror_mode": {
    "name": "ipython",
    "version": 3
   },
   "file_extension": ".py",
   "mimetype": "text/x-python",
   "name": "python",
   "nbconvert_exporter": "python",
   "pygments_lexer": "ipython3",
   "version": "3.6.5"
  }
 },
 "nbformat": 4,
 "nbformat_minor": 2
}
