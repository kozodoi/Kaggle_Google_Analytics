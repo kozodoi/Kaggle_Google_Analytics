{
 "cells": [
  {
   "cell_type": "code",
   "execution_count": 1,
   "metadata": {},
   "outputs": [],
   "source": [
    "import datetime as dt\n",
    "import matplotlib as mp\n",
    "import numpy as np\n",
    "from data_wrangling import *\n",
    "import pandas as pd\n",
    "import numpy as np\n",
    "pd.set_option('display.max_columns', 150)\n",
    "# documentation: https://support.google.com/analytics/answer/3437719?hl=en"
   ]
  },
  {
   "cell_type": "code",
   "execution_count": null,
   "metadata": {},
   "outputs": [],
   "source": []
  },
  {
   "cell_type": "code",
   "execution_count": null,
   "metadata": {},
   "outputs": [],
   "source": []
  },
  {
   "cell_type": "code",
   "execution_count": null,
   "metadata": {},
   "outputs": [],
   "source": []
  },
  {
   "cell_type": "code",
   "execution_count": null,
   "metadata": {},
   "outputs": [],
   "source": []
  },
  {
   "cell_type": "code",
   "execution_count": null,
   "metadata": {},
   "outputs": [],
   "source": [
    "train_visits.date.hist(bins = 60, figsize=(15,5))\n",
    "validation_visits.date.hist(bins = 60, figsize=(15,5))\n"
   ]
  },
  {
   "cell_type": "code",
   "execution_count": null,
   "metadata": {},
   "outputs": [],
   "source": [
    "print \"size of train data set \", len(train)\n",
    "print \"number of non-zeros in the target !!! = \", len(train[train.target>0])"
   ]
  },
  {
   "cell_type": "code",
   "execution_count": null,
   "metadata": {},
   "outputs": [],
   "source": [
    "## we now focus on the companies that have target>0 (so they spent money in the testing period)\n",
    "## And plot the spent of those in the last month/last six months before the testing period\n",
    "revenue = train[train.target>0][['target', 'totals_totalTransactionRevenue_last_1_months','totals_totalTransactionRevenue_last_6_months']]\n",
    "revenue.totals_totalTransactionRevenue_last_1_months=revenue.totals_totalTransactionRevenue_last_1_months.apply(lambda x: np.log(x+1))\n",
    "revenue.totals_totalTransactionRevenue_last_6_months=revenue.totals_totalTransactionRevenue_last_6_months.apply(lambda x: np.log(x+1))\n",
    "p = revenue.hist(bins=20, figsize=(15,10))"
   ]
  },
  {
   "cell_type": "code",
   "execution_count": null,
   "metadata": {},
   "outputs": [],
   "source": [
    "## checking the encoding\n",
    "df = train\n",
    "category = 'geoNetwork_city'\n",
    "\n",
    "relevance = df.groupby(category)['target'].agg([np.sum, np.size]) #is 'target' the best option here?\n",
    "relevance['spent_probability'] = relevance['sum']/(relevance['size']+1)\n",
    "\n",
    "## not required line\n",
    "relevance = relevance.sort_values(by=['spent_probability'], ascending=False)\n",
    "\n",
    "## not required line\n",
    "#relevance = relevance.drop(columns = ['sum', 'size'])\n",
    "relevance"
   ]
  },
  {
   "cell_type": "code",
   "execution_count": null,
   "metadata": {},
   "outputs": [],
   "source": []
  }
 ],
 "metadata": {
  "kernelspec": {
   "display_name": "Python 2",
   "language": "python",
   "name": "python2"
  },
  "language_info": {
   "codemirror_mode": {
    "name": "ipython",
    "version": 2
   },
   "file_extension": ".py",
   "mimetype": "text/x-python",
   "name": "python",
   "nbconvert_exporter": "python",
   "pygments_lexer": "ipython2",
   "version": "2.7.15"
  }
 },
 "nbformat": 4,
 "nbformat_minor": 2
}
